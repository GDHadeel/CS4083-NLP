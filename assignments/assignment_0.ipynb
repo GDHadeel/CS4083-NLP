{
  "nbformat": 4,
  "nbformat_minor": 0,
  "metadata": {
    "colab": {
      "provenance": []
    },
    "kernelspec": {
      "name": "python3",
      "display_name": "Python 3"
    },
    "language_info": {
      "name": "python"
    }
  },
  "cells": [
    {
      "cell_type": "markdown",
      "source": [
        "# Assignment0 - NLP\n",
        "# Deema Hamidah - Haddel Balahmar\n",
        "# Shumokh Abdullah - Sahar Abardawil"
      ],
      "metadata": {
        "id": "JOUyuCh1qvGk"
      }
    },
    {
      "cell_type": "markdown",
      "source": [
        "# How to import NumPy"
      ],
      "metadata": {
        "id": "7sV3-kOTeeJ7"
      }
    },
    {
      "cell_type": "code",
      "execution_count": 299,
      "metadata": {
        "id": "xvKAXVCMeUX-"
      },
      "outputs": [],
      "source": [
        "import numpy as np"
      ]
    },
    {
      "cell_type": "markdown",
      "source": [
        "Reading the example code"
      ],
      "metadata": {
        "id": "rF3plPtkep0K"
      }
    },
    {
      "cell_type": "code",
      "source": [
        "a = np.array([[1, 2, 3],\n",
        "              [4, 5, 6]])\n",
        "\n",
        "a.shape"
      ],
      "metadata": {
        "colab": {
          "base_uri": "https://localhost:8080/"
        },
        "id": "BIk9GDdMelwt",
        "outputId": "b3edd33c-cf15-457b-816a-4a0eff8ed7e6"
      },
      "execution_count": 300,
      "outputs": [
        {
          "output_type": "execute_result",
          "data": {
            "text/plain": [
              "(2, 3)"
            ]
          },
          "metadata": {},
          "execution_count": 300
        }
      ]
    },
    {
      "cell_type": "markdown",
      "source": [
        "# Array fundamentals"
      ],
      "metadata": {
        "id": "UNWOKIDPe5QO"
      }
    },
    {
      "cell_type": "code",
      "source": [
        "a = np.array([1, 2, 3, 4, 5, 6])\n",
        "a"
      ],
      "metadata": {
        "colab": {
          "base_uri": "https://localhost:8080/"
        },
        "id": "q6RQzlQSe0l0",
        "outputId": "c34ca47d-69bf-47bb-b128-b2d68332c973"
      },
      "execution_count": 301,
      "outputs": [
        {
          "output_type": "execute_result",
          "data": {
            "text/plain": [
              "array([1, 2, 3, 4, 5, 6])"
            ]
          },
          "metadata": {},
          "execution_count": 301
        }
      ]
    },
    {
      "cell_type": "code",
      "source": [
        "a[0]"
      ],
      "metadata": {
        "colab": {
          "base_uri": "https://localhost:8080/"
        },
        "id": "Et8DwG6Wj_H9",
        "outputId": "e1de5701-bd75-436b-9b24-56ec4c42c77f"
      },
      "execution_count": 302,
      "outputs": [
        {
          "output_type": "execute_result",
          "data": {
            "text/plain": [
              "1"
            ]
          },
          "metadata": {},
          "execution_count": 302
        }
      ]
    },
    {
      "cell_type": "code",
      "source": [
        "a[0] = 10"
      ],
      "metadata": {
        "id": "2j9W1kwqeltG"
      },
      "execution_count": 303,
      "outputs": []
    },
    {
      "cell_type": "code",
      "source": [
        "a"
      ],
      "metadata": {
        "colab": {
          "base_uri": "https://localhost:8080/"
        },
        "id": "2A3kJBWckDfy",
        "outputId": "137f80c2-33eb-4a9f-a4de-9d00f6156405"
      },
      "execution_count": 304,
      "outputs": [
        {
          "output_type": "execute_result",
          "data": {
            "text/plain": [
              "array([10,  2,  3,  4,  5,  6])"
            ]
          },
          "metadata": {},
          "execution_count": 304
        }
      ]
    },
    {
      "cell_type": "code",
      "source": [
        "a[:3]"
      ],
      "metadata": {
        "colab": {
          "base_uri": "https://localhost:8080/"
        },
        "id": "d8HMCZoRelqM",
        "outputId": "dc365771-6c72-402c-abab-830e19998948"
      },
      "execution_count": 305,
      "outputs": [
        {
          "output_type": "execute_result",
          "data": {
            "text/plain": [
              "array([10,  2,  3])"
            ]
          },
          "metadata": {},
          "execution_count": 305
        }
      ]
    },
    {
      "cell_type": "code",
      "source": [
        "b = a[3:]"
      ],
      "metadata": {
        "id": "f-fsuM2eelnp"
      },
      "execution_count": 306,
      "outputs": []
    },
    {
      "cell_type": "code",
      "source": [
        "b"
      ],
      "metadata": {
        "colab": {
          "base_uri": "https://localhost:8080/"
        },
        "id": "7-wj7iQvkGBQ",
        "outputId": "3aa380d0-f69d-4b2e-e1a5-a3d1be2d19e1"
      },
      "execution_count": 307,
      "outputs": [
        {
          "output_type": "execute_result",
          "data": {
            "text/plain": [
              "array([4, 5, 6])"
            ]
          },
          "metadata": {},
          "execution_count": 307
        }
      ]
    },
    {
      "cell_type": "code",
      "source": [
        "b[0] = 40"
      ],
      "metadata": {
        "id": "1bVegom5elk-"
      },
      "execution_count": 308,
      "outputs": []
    },
    {
      "cell_type": "code",
      "source": [
        "a"
      ],
      "metadata": {
        "colab": {
          "base_uri": "https://localhost:8080/"
        },
        "id": "pWDBPilJkH9Q",
        "outputId": "b1b0d737-7056-42b0-bd71-04767ec86822"
      },
      "execution_count": 309,
      "outputs": [
        {
          "output_type": "execute_result",
          "data": {
            "text/plain": [
              "array([10,  2,  3, 40,  5,  6])"
            ]
          },
          "metadata": {},
          "execution_count": 309
        }
      ]
    },
    {
      "cell_type": "code",
      "source": [
        "a = np.array([[1, 2, 3, 4], [5, 6, 7, 8], [9, 10, 11, 12]])\n",
        "a"
      ],
      "metadata": {
        "colab": {
          "base_uri": "https://localhost:8080/"
        },
        "id": "etgB4I1Selie",
        "outputId": "72253f33-5221-4888-91a3-61b63be541d5"
      },
      "execution_count": 310,
      "outputs": [
        {
          "output_type": "execute_result",
          "data": {
            "text/plain": [
              "array([[ 1,  2,  3,  4],\n",
              "       [ 5,  6,  7,  8],\n",
              "       [ 9, 10, 11, 12]])"
            ]
          },
          "metadata": {},
          "execution_count": 310
        }
      ]
    },
    {
      "cell_type": "code",
      "source": [
        "a[1, 3]"
      ],
      "metadata": {
        "colab": {
          "base_uri": "https://localhost:8080/"
        },
        "id": "1fIu_W40fQcT",
        "outputId": "cbc2a238-8747-46ce-952b-28c0d02e2e14"
      },
      "execution_count": 311,
      "outputs": [
        {
          "output_type": "execute_result",
          "data": {
            "text/plain": [
              "8"
            ]
          },
          "metadata": {},
          "execution_count": 311
        }
      ]
    },
    {
      "cell_type": "markdown",
      "source": [
        "# Array attributes"
      ],
      "metadata": {
        "id": "v81pcZHmfZbf"
      }
    },
    {
      "cell_type": "code",
      "source": [
        "a.ndim"
      ],
      "metadata": {
        "colab": {
          "base_uri": "https://localhost:8080/"
        },
        "id": "xGb2WilOfbN1",
        "outputId": "caa3477d-c32e-42a8-f1c0-67ddc587a6c0"
      },
      "execution_count": 312,
      "outputs": [
        {
          "output_type": "execute_result",
          "data": {
            "text/plain": [
              "2"
            ]
          },
          "metadata": {},
          "execution_count": 312
        }
      ]
    },
    {
      "cell_type": "code",
      "source": [
        "\n",
        "a.shape"
      ],
      "metadata": {
        "colab": {
          "base_uri": "https://localhost:8080/"
        },
        "id": "xNcHiXPNkLR_",
        "outputId": "362a1278-1856-4491-c314-53d4b6f8661f"
      },
      "execution_count": 313,
      "outputs": [
        {
          "output_type": "execute_result",
          "data": {
            "text/plain": [
              "(3, 4)"
            ]
          },
          "metadata": {},
          "execution_count": 313
        }
      ]
    },
    {
      "cell_type": "code",
      "source": [
        "\n",
        "len(a.shape) == a.ndim"
      ],
      "metadata": {
        "colab": {
          "base_uri": "https://localhost:8080/"
        },
        "id": "I9O9_iShkLOp",
        "outputId": "492aa16f-1a07-4b3c-eb3a-f7f87711012a"
      },
      "execution_count": 314,
      "outputs": [
        {
          "output_type": "execute_result",
          "data": {
            "text/plain": [
              "True"
            ]
          },
          "metadata": {},
          "execution_count": 314
        }
      ]
    },
    {
      "cell_type": "code",
      "source": [
        "a.size\n",
        "\n",
        "import math\n",
        "a.size == math.prod(a.shape)"
      ],
      "metadata": {
        "colab": {
          "base_uri": "https://localhost:8080/"
        },
        "id": "Hs2Afffsfr5N",
        "outputId": "a34d53c6-ff46-4bf1-d705-6363c1e6447f"
      },
      "execution_count": 315,
      "outputs": [
        {
          "output_type": "execute_result",
          "data": {
            "text/plain": [
              "True"
            ]
          },
          "metadata": {},
          "execution_count": 315
        }
      ]
    },
    {
      "cell_type": "code",
      "source": [
        "a.dtype"
      ],
      "metadata": {
        "colab": {
          "base_uri": "https://localhost:8080/"
        },
        "id": "P4nXLz7Hfx7G",
        "outputId": "d3146e5a-b5af-4e88-a048-1984a5b533f3"
      },
      "execution_count": 316,
      "outputs": [
        {
          "output_type": "execute_result",
          "data": {
            "text/plain": [
              "dtype('int64')"
            ]
          },
          "metadata": {},
          "execution_count": 316
        }
      ]
    },
    {
      "cell_type": "markdown",
      "source": [
        "# How to create a basic array"
      ],
      "metadata": {
        "id": "zXcq2Jtef0eB"
      }
    },
    {
      "cell_type": "code",
      "source": [
        "np.zeros(2)"
      ],
      "metadata": {
        "colab": {
          "base_uri": "https://localhost:8080/"
        },
        "id": "U0Arsaduf3Ow",
        "outputId": "2ec2046b-c81b-4012-cd08-1f777a2b46f9"
      },
      "execution_count": 317,
      "outputs": [
        {
          "output_type": "execute_result",
          "data": {
            "text/plain": [
              "array([0., 0.])"
            ]
          },
          "metadata": {},
          "execution_count": 317
        }
      ]
    },
    {
      "cell_type": "code",
      "source": [
        "np.ones(2)"
      ],
      "metadata": {
        "colab": {
          "base_uri": "https://localhost:8080/"
        },
        "id": "dq4eA5Brf9Zx",
        "outputId": "a5786dd4-4b36-49ad-81db-21dac7225dd4"
      },
      "execution_count": 318,
      "outputs": [
        {
          "output_type": "execute_result",
          "data": {
            "text/plain": [
              "array([1., 1.])"
            ]
          },
          "metadata": {},
          "execution_count": 318
        }
      ]
    },
    {
      "cell_type": "code",
      "source": [
        "# Create an empty array with 2 elements\n",
        "np.empty(2)"
      ],
      "metadata": {
        "colab": {
          "base_uri": "https://localhost:8080/"
        },
        "id": "szjF2wW-gJVx",
        "outputId": "9b1e1b29-334b-4b0d-c12c-c5180075dd6a"
      },
      "execution_count": 319,
      "outputs": [
        {
          "output_type": "execute_result",
          "data": {
            "text/plain": [
              "array([1., 1.])"
            ]
          },
          "metadata": {},
          "execution_count": 319
        }
      ]
    },
    {
      "cell_type": "code",
      "source": [
        "np.arange(4)"
      ],
      "metadata": {
        "colab": {
          "base_uri": "https://localhost:8080/"
        },
        "id": "COvj397AgKwZ",
        "outputId": "d7c79d4d-5f4f-4219-ae12-a09912af4df7"
      },
      "execution_count": 320,
      "outputs": [
        {
          "output_type": "execute_result",
          "data": {
            "text/plain": [
              "array([0, 1, 2, 3])"
            ]
          },
          "metadata": {},
          "execution_count": 320
        }
      ]
    },
    {
      "cell_type": "code",
      "source": [
        "np.arange(2, 9, 2)"
      ],
      "metadata": {
        "colab": {
          "base_uri": "https://localhost:8080/"
        },
        "id": "hMV8ZV4bgM73",
        "outputId": "5ce2eef3-f0b0-4aa4-d03d-92b00110e114"
      },
      "execution_count": 321,
      "outputs": [
        {
          "output_type": "execute_result",
          "data": {
            "text/plain": [
              "array([2, 4, 6, 8])"
            ]
          },
          "metadata": {},
          "execution_count": 321
        }
      ]
    },
    {
      "cell_type": "code",
      "source": [
        "np.linspace(0, 10, num=5)"
      ],
      "metadata": {
        "colab": {
          "base_uri": "https://localhost:8080/"
        },
        "id": "suTyZDYcgOx0",
        "outputId": "405f018c-ea59-4315-9a7c-5a83f4f68e6f"
      },
      "execution_count": 322,
      "outputs": [
        {
          "output_type": "execute_result",
          "data": {
            "text/plain": [
              "array([ 0. ,  2.5,  5. ,  7.5, 10. ])"
            ]
          },
          "metadata": {},
          "execution_count": 322
        }
      ]
    },
    {
      "cell_type": "markdown",
      "source": [
        "# Adding, removing, and sorting elements"
      ],
      "metadata": {
        "id": "RLTY1iycgRvQ"
      }
    },
    {
      "cell_type": "code",
      "source": [
        "arr = np.array([2, 1, 5, 3, 7, 4, 6, 8])"
      ],
      "metadata": {
        "id": "9jI97uWPgXi6"
      },
      "execution_count": 323,
      "outputs": []
    },
    {
      "cell_type": "code",
      "source": [
        "np.sort(arr)"
      ],
      "metadata": {
        "colab": {
          "base_uri": "https://localhost:8080/"
        },
        "id": "_YIpnHDhgXff",
        "outputId": "b496b2c3-68ea-4d08-f589-60c2e7f3417f"
      },
      "execution_count": 324,
      "outputs": [
        {
          "output_type": "execute_result",
          "data": {
            "text/plain": [
              "array([1, 2, 3, 4, 5, 6, 7, 8])"
            ]
          },
          "metadata": {},
          "execution_count": 324
        }
      ]
    },
    {
      "cell_type": "code",
      "source": [
        "a = np.array([1, 2, 3, 4])\n",
        "b = np.array([5, 6, 7, 8])"
      ],
      "metadata": {
        "id": "v2gWca8UgXde"
      },
      "execution_count": 325,
      "outputs": []
    },
    {
      "cell_type": "code",
      "source": [
        "np.concatenate((a, b))"
      ],
      "metadata": {
        "colab": {
          "base_uri": "https://localhost:8080/"
        },
        "id": "_U1ia3fNgkI1",
        "outputId": "5132d98f-2b5d-45a2-a025-19b3b19f0e37"
      },
      "execution_count": 326,
      "outputs": [
        {
          "output_type": "execute_result",
          "data": {
            "text/plain": [
              "array([1, 2, 3, 4, 5, 6, 7, 8])"
            ]
          },
          "metadata": {},
          "execution_count": 326
        }
      ]
    },
    {
      "cell_type": "code",
      "source": [
        "x = np.array([[1, 2], [3, 4]])\n",
        "y = np.array([[5, 6]])"
      ],
      "metadata": {
        "id": "E6M-uS9Vgmfy"
      },
      "execution_count": 327,
      "outputs": []
    },
    {
      "cell_type": "code",
      "source": [
        "np.concatenate((x, y), axis=0)"
      ],
      "metadata": {
        "colab": {
          "base_uri": "https://localhost:8080/"
        },
        "id": "o0VcndDtgvFn",
        "outputId": "a4ec2b02-fa26-4436-bc93-7e4675ecf8b9"
      },
      "execution_count": 328,
      "outputs": [
        {
          "output_type": "execute_result",
          "data": {
            "text/plain": [
              "array([[1, 2],\n",
              "       [3, 4],\n",
              "       [5, 6]])"
            ]
          },
          "metadata": {},
          "execution_count": 328
        }
      ]
    },
    {
      "cell_type": "markdown",
      "source": [
        "# How do you know the shape and size of an array?"
      ],
      "metadata": {
        "id": "uWK33el6gyXB"
      }
    },
    {
      "cell_type": "code",
      "source": [
        "array_example = np.array([[[0, 1, 2, 3],\n",
        "                           [4, 5, 6, 7]],\n",
        "                          [[0, 1, 2, 3],\n",
        "                           [4, 5, 6, 7]],\n",
        "                          [[0 ,1 ,2, 3],\n",
        "                           [4, 5, 6, 7]]])"
      ],
      "metadata": {
        "id": "tPLrCp11gwT_"
      },
      "execution_count": 329,
      "outputs": []
    },
    {
      "cell_type": "code",
      "source": [
        "array_example.ndim"
      ],
      "metadata": {
        "colab": {
          "base_uri": "https://localhost:8080/"
        },
        "id": "fbjuH-Byg0OH",
        "outputId": "3a0141fb-ad4d-4394-aa6e-f398f22b62cf"
      },
      "execution_count": 330,
      "outputs": [
        {
          "output_type": "execute_result",
          "data": {
            "text/plain": [
              "3"
            ]
          },
          "metadata": {},
          "execution_count": 330
        }
      ]
    },
    {
      "cell_type": "code",
      "source": [
        "array_example.size"
      ],
      "metadata": {
        "colab": {
          "base_uri": "https://localhost:8080/"
        },
        "id": "oWvPvYLug1uO",
        "outputId": "843dc168-2df6-4728-ef78-8e6685cc66bb"
      },
      "execution_count": 331,
      "outputs": [
        {
          "output_type": "execute_result",
          "data": {
            "text/plain": [
              "24"
            ]
          },
          "metadata": {},
          "execution_count": 331
        }
      ]
    },
    {
      "cell_type": "code",
      "source": [
        "array_example.shape"
      ],
      "metadata": {
        "colab": {
          "base_uri": "https://localhost:8080/"
        },
        "id": "EpsckmzUg23e",
        "outputId": "5a3458ed-cfd9-4a85-fd2d-08540274201e"
      },
      "execution_count": 332,
      "outputs": [
        {
          "output_type": "execute_result",
          "data": {
            "text/plain": [
              "(3, 2, 4)"
            ]
          },
          "metadata": {},
          "execution_count": 332
        }
      ]
    },
    {
      "cell_type": "markdown",
      "source": [
        "# Can you reshape an array?"
      ],
      "metadata": {
        "id": "9iD9KMhZg5Oo"
      }
    },
    {
      "cell_type": "code",
      "source": [
        "a = np.arange(6)\n",
        "print(a)"
      ],
      "metadata": {
        "colab": {
          "base_uri": "https://localhost:8080/"
        },
        "id": "ABo3XgqKg6Sm",
        "outputId": "549543c6-04df-4850-8291-d788c9a12c89"
      },
      "execution_count": 333,
      "outputs": [
        {
          "output_type": "stream",
          "name": "stdout",
          "text": [
            "[0 1 2 3 4 5]\n"
          ]
        }
      ]
    },
    {
      "cell_type": "code",
      "source": [
        "b = a.reshape(3, 2)\n",
        "print(b)"
      ],
      "metadata": {
        "colab": {
          "base_uri": "https://localhost:8080/"
        },
        "id": "xQfBbcacg9Gm",
        "outputId": "024eefaa-79e9-41c3-e40b-eb4ffbf32a6a"
      },
      "execution_count": 334,
      "outputs": [
        {
          "output_type": "stream",
          "name": "stdout",
          "text": [
            "[[0 1]\n",
            " [2 3]\n",
            " [4 5]]\n"
          ]
        }
      ]
    },
    {
      "cell_type": "code",
      "source": [
        "np.reshape(a, (1, 6), order='C')"
      ],
      "metadata": {
        "colab": {
          "base_uri": "https://localhost:8080/"
        },
        "id": "0V97kQcYg9Dg",
        "outputId": "8bf153dd-a62b-44a4-811f-452f442ce759"
      },
      "execution_count": 335,
      "outputs": [
        {
          "output_type": "execute_result",
          "data": {
            "text/plain": [
              "array([[0, 1, 2, 3, 4, 5]])"
            ]
          },
          "metadata": {},
          "execution_count": 335
        }
      ]
    },
    {
      "cell_type": "markdown",
      "source": [
        "# How to convert a 1D array into a 2D array (how to add a new axis to an array)"
      ],
      "metadata": {
        "id": "85G4vCenhB6f"
      }
    },
    {
      "cell_type": "code",
      "source": [
        "a = np.array([1, 2, 3, 4, 5, 6])\n",
        "a.shape"
      ],
      "metadata": {
        "colab": {
          "base_uri": "https://localhost:8080/"
        },
        "id": "jzVIvj1Eg8_q",
        "outputId": "daf30f0f-76cc-4de3-d5bc-922778b83c7c"
      },
      "execution_count": 336,
      "outputs": [
        {
          "output_type": "execute_result",
          "data": {
            "text/plain": [
              "(6,)"
            ]
          },
          "metadata": {},
          "execution_count": 336
        }
      ]
    },
    {
      "cell_type": "code",
      "source": [
        "a2 = a[np.newaxis, :]\n",
        "a2.shape"
      ],
      "metadata": {
        "colab": {
          "base_uri": "https://localhost:8080/"
        },
        "id": "xX4rw9vAg89C",
        "outputId": "7f3c5a60-e201-4593-c3e7-aa23430aff6d"
      },
      "execution_count": 337,
      "outputs": [
        {
          "output_type": "execute_result",
          "data": {
            "text/plain": [
              "(1, 6)"
            ]
          },
          "metadata": {},
          "execution_count": 337
        }
      ]
    },
    {
      "cell_type": "code",
      "source": [
        "row_vector = a[np.newaxis, :]\n",
        "row_vector.shape"
      ],
      "metadata": {
        "colab": {
          "base_uri": "https://localhost:8080/"
        },
        "id": "QxqFO0Meg86M",
        "outputId": "bc477a4e-fb2f-46b7-a9ff-2074fec33da8"
      },
      "execution_count": 338,
      "outputs": [
        {
          "output_type": "execute_result",
          "data": {
            "text/plain": [
              "(1, 6)"
            ]
          },
          "metadata": {},
          "execution_count": 338
        }
      ]
    },
    {
      "cell_type": "code",
      "source": [
        "col_vector = a[:, np.newaxis]\n",
        "col_vector.shape"
      ],
      "metadata": {
        "colab": {
          "base_uri": "https://localhost:8080/"
        },
        "id": "x-LWJ1P3g83j",
        "outputId": "4e5a07c6-4887-4897-933d-9fdf3bf01228"
      },
      "execution_count": 339,
      "outputs": [
        {
          "output_type": "execute_result",
          "data": {
            "text/plain": [
              "(6, 1)"
            ]
          },
          "metadata": {},
          "execution_count": 339
        }
      ]
    },
    {
      "cell_type": "code",
      "source": [
        "a = np.array([1, 2, 3, 4, 5, 6])\n",
        "a.shape"
      ],
      "metadata": {
        "colab": {
          "base_uri": "https://localhost:8080/"
        },
        "id": "VZnIBdLHg808",
        "outputId": "505ff2bc-c0ac-4a82-ae32-b0de4901be8c"
      },
      "execution_count": 340,
      "outputs": [
        {
          "output_type": "execute_result",
          "data": {
            "text/plain": [
              "(6,)"
            ]
          },
          "metadata": {},
          "execution_count": 340
        }
      ]
    },
    {
      "cell_type": "code",
      "source": [
        "b = np.expand_dims(a, axis=1)\n",
        "b.shape"
      ],
      "metadata": {
        "colab": {
          "base_uri": "https://localhost:8080/"
        },
        "id": "8SSQc3alg8yi",
        "outputId": "db845232-24c1-49ce-909a-b32474191627"
      },
      "execution_count": 341,
      "outputs": [
        {
          "output_type": "execute_result",
          "data": {
            "text/plain": [
              "(6, 1)"
            ]
          },
          "metadata": {},
          "execution_count": 341
        }
      ]
    },
    {
      "cell_type": "code",
      "source": [
        "c = np.expand_dims(a, axis=0)\n",
        "c.shape"
      ],
      "metadata": {
        "colab": {
          "base_uri": "https://localhost:8080/"
        },
        "id": "_WB2DrQQg8wR",
        "outputId": "5c17ae7a-9bd8-4881-870e-82e6591f3584"
      },
      "execution_count": 342,
      "outputs": [
        {
          "output_type": "execute_result",
          "data": {
            "text/plain": [
              "(1, 6)"
            ]
          },
          "metadata": {},
          "execution_count": 342
        }
      ]
    },
    {
      "cell_type": "markdown",
      "source": [
        "# Indexing and slicing"
      ],
      "metadata": {
        "id": "mNdN3q3OhP2y"
      }
    },
    {
      "cell_type": "code",
      "source": [
        "data = np.array([1, 2, 3])\n",
        "\n",
        "data[1]\n",
        "data[0:2]\n",
        "data[1:]\n",
        "data[-2:]"
      ],
      "metadata": {
        "colab": {
          "base_uri": "https://localhost:8080/"
        },
        "id": "L-ldJb4wg8tc",
        "outputId": "b482ab9f-2113-4fda-dad4-4695419ca8c1"
      },
      "execution_count": 343,
      "outputs": [
        {
          "output_type": "execute_result",
          "data": {
            "text/plain": [
              "array([2, 3])"
            ]
          },
          "metadata": {},
          "execution_count": 343
        }
      ]
    },
    {
      "cell_type": "code",
      "source": [
        "a = np.array([[1 , 2, 3, 4], [5, 6, 7, 8], [9, 10, 11, 12]])"
      ],
      "metadata": {
        "id": "FVaN-xGUg8q4"
      },
      "execution_count": 344,
      "outputs": []
    },
    {
      "cell_type": "code",
      "source": [
        "print(a[a < 5])"
      ],
      "metadata": {
        "colab": {
          "base_uri": "https://localhost:8080/"
        },
        "id": "jJIlF1C1g8nr",
        "outputId": "f2617eb3-ac45-4681-c9d0-2ddb41cbb1fe"
      },
      "execution_count": 345,
      "outputs": [
        {
          "output_type": "stream",
          "name": "stdout",
          "text": [
            "[1 2 3 4]\n"
          ]
        }
      ]
    },
    {
      "cell_type": "code",
      "source": [
        "five_up = (a >= 5)\n",
        "print(a[five_up])"
      ],
      "metadata": {
        "colab": {
          "base_uri": "https://localhost:8080/"
        },
        "id": "RmoFH7yNiVhK",
        "outputId": "f66635a2-acf8-4fd7-da26-8c8d8b4ce318"
      },
      "execution_count": 346,
      "outputs": [
        {
          "output_type": "stream",
          "name": "stdout",
          "text": [
            "[ 5  6  7  8  9 10 11 12]\n"
          ]
        }
      ]
    },
    {
      "cell_type": "code",
      "source": [
        "divisible_by_2 = a[a%2==0]\n",
        "print(divisible_by_2)"
      ],
      "metadata": {
        "colab": {
          "base_uri": "https://localhost:8080/"
        },
        "id": "OdoNILphiXEt",
        "outputId": "a137e122-f0dd-4367-c05c-d4e585ec0c85"
      },
      "execution_count": 347,
      "outputs": [
        {
          "output_type": "stream",
          "name": "stdout",
          "text": [
            "[ 2  4  6  8 10 12]\n"
          ]
        }
      ]
    },
    {
      "cell_type": "code",
      "source": [
        "five_up = (a > 5) | (a == 5)\n",
        "print(five_up)"
      ],
      "metadata": {
        "colab": {
          "base_uri": "https://localhost:8080/"
        },
        "id": "EdR0bpihiYht",
        "outputId": "f9730375-843b-4cb1-de48-84d00579c2e0"
      },
      "execution_count": 348,
      "outputs": [
        {
          "output_type": "stream",
          "name": "stdout",
          "text": [
            "[[False False False False]\n",
            " [ True  True  True  True]\n",
            " [ True  True  True  True]]\n"
          ]
        }
      ]
    },
    {
      "cell_type": "code",
      "source": [
        "a = np.array([[1, 2, 3, 4], [5, 6, 7, 8], [9, 10, 11, 12]])"
      ],
      "metadata": {
        "id": "bd1ShjhgiaAP"
      },
      "execution_count": 349,
      "outputs": []
    },
    {
      "cell_type": "code",
      "source": [
        "b = np.nonzero(a < 5)\n",
        "print(b)"
      ],
      "metadata": {
        "colab": {
          "base_uri": "https://localhost:8080/"
        },
        "id": "AmzVmZo7ibol",
        "outputId": "c761def3-cd67-4899-d12f-6a6e947db2df"
      },
      "execution_count": 350,
      "outputs": [
        {
          "output_type": "stream",
          "name": "stdout",
          "text": [
            "(array([0, 0, 0, 0]), array([0, 1, 2, 3]))\n"
          ]
        }
      ]
    },
    {
      "cell_type": "code",
      "source": [
        "list_of_coordinates= list(zip(b[0], b[1]))\n",
        "\n",
        "for coord in list_of_coordinates:\n",
        "    print(coord)"
      ],
      "metadata": {
        "colab": {
          "base_uri": "https://localhost:8080/"
        },
        "id": "4N7DlVJLieBO",
        "outputId": "57d09956-d468-4160-ff9a-5ad24cb4a733"
      },
      "execution_count": 351,
      "outputs": [
        {
          "output_type": "stream",
          "name": "stdout",
          "text": [
            "(0, 0)\n",
            "(0, 1)\n",
            "(0, 2)\n",
            "(0, 3)\n"
          ]
        }
      ]
    },
    {
      "cell_type": "code",
      "source": [
        "print(a[b])"
      ],
      "metadata": {
        "colab": {
          "base_uri": "https://localhost:8080/"
        },
        "id": "y6b5TRHuihiK",
        "outputId": "53c01522-b52e-462f-c8f3-ba8a95e53b22"
      },
      "execution_count": 352,
      "outputs": [
        {
          "output_type": "stream",
          "name": "stdout",
          "text": [
            "[1 2 3 4]\n"
          ]
        }
      ]
    },
    {
      "cell_type": "code",
      "source": [
        "not_there = np.nonzero(a == 42)\n",
        "print(not_there)"
      ],
      "metadata": {
        "colab": {
          "base_uri": "https://localhost:8080/"
        },
        "id": "9zEq4qMJihfD",
        "outputId": "6166457d-0536-44d8-bb19-c21450e3e2fd"
      },
      "execution_count": 353,
      "outputs": [
        {
          "output_type": "stream",
          "name": "stdout",
          "text": [
            "(array([], dtype=int64), array([], dtype=int64))\n"
          ]
        }
      ]
    },
    {
      "cell_type": "markdown",
      "source": [
        "# How to create an array from existing data"
      ],
      "metadata": {
        "id": "DrqjdQ46inbs"
      }
    },
    {
      "cell_type": "code",
      "source": [
        "a = np.array([1,  2,  3,  4,  5,  6,  7,  8,  9, 10])"
      ],
      "metadata": {
        "id": "AaYVj8Uqihc7"
      },
      "execution_count": 354,
      "outputs": []
    },
    {
      "cell_type": "code",
      "source": [
        "arr1 = a[3:8]\n",
        "arr1"
      ],
      "metadata": {
        "colab": {
          "base_uri": "https://localhost:8080/"
        },
        "id": "xdNKs37Oiha_",
        "outputId": "b1db780f-3232-4afb-bf7a-50a63eb2cbe7"
      },
      "execution_count": 355,
      "outputs": [
        {
          "output_type": "execute_result",
          "data": {
            "text/plain": [
              "array([4, 5, 6, 7, 8])"
            ]
          },
          "metadata": {},
          "execution_count": 355
        }
      ]
    },
    {
      "cell_type": "code",
      "source": [
        "a1 = np.array([[1, 1],\n",
        "               [2, 2]])\n",
        "\n",
        "a2 = np.array([[3, 3],\n",
        "               [4, 4]])"
      ],
      "metadata": {
        "id": "i24GA9uhihYC"
      },
      "execution_count": 356,
      "outputs": []
    },
    {
      "cell_type": "code",
      "source": [
        "np.vstack((a1, a2))"
      ],
      "metadata": {
        "colab": {
          "base_uri": "https://localhost:8080/"
        },
        "id": "-q0aBLfYihVo",
        "outputId": "ce33082f-3978-4a32-91a7-b9c88407d1f5"
      },
      "execution_count": 357,
      "outputs": [
        {
          "output_type": "execute_result",
          "data": {
            "text/plain": [
              "array([[1, 1],\n",
              "       [2, 2],\n",
              "       [3, 3],\n",
              "       [4, 4]])"
            ]
          },
          "metadata": {},
          "execution_count": 357
        }
      ]
    },
    {
      "cell_type": "code",
      "source": [
        "np.hstack((a1, a2))"
      ],
      "metadata": {
        "colab": {
          "base_uri": "https://localhost:8080/"
        },
        "id": "9d33vCuUihSm",
        "outputId": "cbeaede1-89bf-4484-fb1e-325a0c45ce52"
      },
      "execution_count": 358,
      "outputs": [
        {
          "output_type": "execute_result",
          "data": {
            "text/plain": [
              "array([[1, 1, 3, 3],\n",
              "       [2, 2, 4, 4]])"
            ]
          },
          "metadata": {},
          "execution_count": 358
        }
      ]
    },
    {
      "cell_type": "code",
      "source": [
        "x = np.arange(1, 25).reshape(2, 12)\n",
        "x"
      ],
      "metadata": {
        "colab": {
          "base_uri": "https://localhost:8080/"
        },
        "id": "T6ryVBbwihQF",
        "outputId": "76b27306-dd37-4bbc-e0f5-4a9216970a99"
      },
      "execution_count": 359,
      "outputs": [
        {
          "output_type": "execute_result",
          "data": {
            "text/plain": [
              "array([[ 1,  2,  3,  4,  5,  6,  7,  8,  9, 10, 11, 12],\n",
              "       [13, 14, 15, 16, 17, 18, 19, 20, 21, 22, 23, 24]])"
            ]
          },
          "metadata": {},
          "execution_count": 359
        }
      ]
    },
    {
      "cell_type": "code",
      "source": [
        "np.hsplit(x, 3)"
      ],
      "metadata": {
        "colab": {
          "base_uri": "https://localhost:8080/"
        },
        "id": "F1he5HWLihNX",
        "outputId": "06dae1ee-8d4f-402d-eb9a-ab9e4738e36b"
      },
      "execution_count": 360,
      "outputs": [
        {
          "output_type": "execute_result",
          "data": {
            "text/plain": [
              "[array([[ 1,  2,  3,  4],\n",
              "        [13, 14, 15, 16]]),\n",
              " array([[ 5,  6,  7,  8],\n",
              "        [17, 18, 19, 20]]),\n",
              " array([[ 9, 10, 11, 12],\n",
              "        [21, 22, 23, 24]])]"
            ]
          },
          "metadata": {},
          "execution_count": 360
        }
      ]
    },
    {
      "cell_type": "code",
      "source": [
        "np.hsplit(x, (3, 4))"
      ],
      "metadata": {
        "colab": {
          "base_uri": "https://localhost:8080/"
        },
        "id": "e2EEYqZFihKt",
        "outputId": "fb4e84f3-0529-49cb-e71b-ac5f2bf82312"
      },
      "execution_count": 361,
      "outputs": [
        {
          "output_type": "execute_result",
          "data": {
            "text/plain": [
              "[array([[ 1,  2,  3],\n",
              "        [13, 14, 15]]),\n",
              " array([[ 4],\n",
              "        [16]]),\n",
              " array([[ 5,  6,  7,  8,  9, 10, 11, 12],\n",
              "        [17, 18, 19, 20, 21, 22, 23, 24]])]"
            ]
          },
          "metadata": {},
          "execution_count": 361
        }
      ]
    },
    {
      "cell_type": "code",
      "source": [
        "a = np.array([[1, 2, 3, 4], [5, 6, 7, 8], [9, 10, 11, 12]])"
      ],
      "metadata": {
        "id": "HAw6HvHLihIT"
      },
      "execution_count": 362,
      "outputs": []
    },
    {
      "cell_type": "code",
      "source": [
        "b1 = a[0, :]\n",
        "b1\n",
        "b1[0] = 99\n",
        "b1\n",
        "a"
      ],
      "metadata": {
        "colab": {
          "base_uri": "https://localhost:8080/"
        },
        "id": "Ox3OTAHgi3Qu",
        "outputId": "bc883e06-95ae-4c72-a57d-f0ce58af3885"
      },
      "execution_count": 363,
      "outputs": [
        {
          "output_type": "execute_result",
          "data": {
            "text/plain": [
              "array([[99,  2,  3,  4],\n",
              "       [ 5,  6,  7,  8],\n",
              "       [ 9, 10, 11, 12]])"
            ]
          },
          "metadata": {},
          "execution_count": 363
        }
      ]
    },
    {
      "cell_type": "code",
      "source": [
        "b2 = a.copy()"
      ],
      "metadata": {
        "id": "8xnHNEC9i9eN"
      },
      "execution_count": 364,
      "outputs": []
    },
    {
      "cell_type": "markdown",
      "source": [
        "# Basic array operations"
      ],
      "metadata": {
        "id": "g6-n_8NCi_EP"
      }
    },
    {
      "cell_type": "code",
      "source": [
        "data = np.array([1, 2])\n",
        "ones = np.ones(2, dtype=int)\n",
        "data + ones"
      ],
      "metadata": {
        "colab": {
          "base_uri": "https://localhost:8080/"
        },
        "id": "C6GVxAJ4jEZj",
        "outputId": "960dd739-58d2-4de8-8a7a-3aa5c4dba879"
      },
      "execution_count": 365,
      "outputs": [
        {
          "output_type": "execute_result",
          "data": {
            "text/plain": [
              "array([2, 3])"
            ]
          },
          "metadata": {},
          "execution_count": 365
        }
      ]
    },
    {
      "cell_type": "code",
      "source": [
        "data - ones\n",
        "data * data\n",
        "data / data"
      ],
      "metadata": {
        "colab": {
          "base_uri": "https://localhost:8080/"
        },
        "id": "AdSISO8yjEWY",
        "outputId": "8c60b46f-569b-4ee1-9f7f-fc85c5becb0b"
      },
      "execution_count": 366,
      "outputs": [
        {
          "output_type": "execute_result",
          "data": {
            "text/plain": [
              "array([1., 1.])"
            ]
          },
          "metadata": {},
          "execution_count": 366
        }
      ]
    },
    {
      "cell_type": "code",
      "source": [
        "a = np.array([1, 2, 3, 4])\n",
        "\n",
        "a.sum()"
      ],
      "metadata": {
        "colab": {
          "base_uri": "https://localhost:8080/"
        },
        "id": "GIUMjkZBjETo",
        "outputId": "02bf83ac-9fca-43b1-fa6e-4a2cca9d8364"
      },
      "execution_count": 367,
      "outputs": [
        {
          "output_type": "execute_result",
          "data": {
            "text/plain": [
              "10"
            ]
          },
          "metadata": {},
          "execution_count": 367
        }
      ]
    },
    {
      "cell_type": "code",
      "source": [
        "b = np.array([[1, 1], [2, 2]])"
      ],
      "metadata": {
        "id": "OfNDvG1RjEQ_"
      },
      "execution_count": 368,
      "outputs": []
    },
    {
      "cell_type": "code",
      "source": [
        "b.sum(axis=0)"
      ],
      "metadata": {
        "colab": {
          "base_uri": "https://localhost:8080/"
        },
        "id": "8a_CCDXIjEOQ",
        "outputId": "06e11851-6ef7-4004-e7ea-d2e11bfb956a"
      },
      "execution_count": 369,
      "outputs": [
        {
          "output_type": "execute_result",
          "data": {
            "text/plain": [
              "array([3, 3])"
            ]
          },
          "metadata": {},
          "execution_count": 369
        }
      ]
    },
    {
      "cell_type": "code",
      "source": [
        "b.sum(axis=1)"
      ],
      "metadata": {
        "colab": {
          "base_uri": "https://localhost:8080/"
        },
        "id": "-G-5fWQQjLio",
        "outputId": "71851f9e-1c41-43bc-a3e8-529c57d91226"
      },
      "execution_count": 370,
      "outputs": [
        {
          "output_type": "execute_result",
          "data": {
            "text/plain": [
              "array([2, 4])"
            ]
          },
          "metadata": {},
          "execution_count": 370
        }
      ]
    },
    {
      "cell_type": "markdown",
      "source": [
        "# Broadcasting"
      ],
      "metadata": {
        "id": "CBSCs9YHjP9l"
      }
    },
    {
      "cell_type": "code",
      "source": [
        "data = np.array([1.0, 2.0])\n",
        "data * 1.6"
      ],
      "metadata": {
        "colab": {
          "base_uri": "https://localhost:8080/"
        },
        "id": "OPm2WwYPjLZa",
        "outputId": "102ab65f-ab1d-4c72-c3e7-b05aed1d6970"
      },
      "execution_count": 371,
      "outputs": [
        {
          "output_type": "execute_result",
          "data": {
            "text/plain": [
              "array([1.6, 3.2])"
            ]
          },
          "metadata": {},
          "execution_count": 371
        }
      ]
    },
    {
      "cell_type": "markdown",
      "source": [
        "# More useful array operations"
      ],
      "metadata": {
        "id": "SpcwNeFVjUku"
      }
    },
    {
      "cell_type": "code",
      "source": [
        "data.max()\n"
      ],
      "metadata": {
        "colab": {
          "base_uri": "https://localhost:8080/"
        },
        "id": "5G7WFa19jLWB",
        "outputId": "7cb96c29-d06f-429a-8511-b81c57259edf"
      },
      "execution_count": 372,
      "outputs": [
        {
          "output_type": "execute_result",
          "data": {
            "text/plain": [
              "2.0"
            ]
          },
          "metadata": {},
          "execution_count": 372
        }
      ]
    },
    {
      "cell_type": "code",
      "source": [
        "data.min()\n"
      ],
      "metadata": {
        "colab": {
          "base_uri": "https://localhost:8080/"
        },
        "id": "cv12oZMmkoSA",
        "outputId": "f4ea471a-11b2-4629-f70c-855437f6bd76"
      },
      "execution_count": 373,
      "outputs": [
        {
          "output_type": "execute_result",
          "data": {
            "text/plain": [
              "1.0"
            ]
          },
          "metadata": {},
          "execution_count": 373
        }
      ]
    },
    {
      "cell_type": "code",
      "source": [
        "\n",
        "data.sum()"
      ],
      "metadata": {
        "colab": {
          "base_uri": "https://localhost:8080/"
        },
        "id": "JfSs6S78kpqz",
        "outputId": "6192f570-bda0-4efe-904f-15597eb1f7ac"
      },
      "execution_count": 374,
      "outputs": [
        {
          "output_type": "execute_result",
          "data": {
            "text/plain": [
              "3.0"
            ]
          },
          "metadata": {},
          "execution_count": 374
        }
      ]
    },
    {
      "cell_type": "code",
      "source": [
        "a = np.array([[0.45053314, 0.17296777, 0.34376245, 0.5510652],\n",
        "              [0.54627315, 0.05093587, 0.40067661, 0.55645993],\n",
        "              [0.12697628, 0.82485143, 0.26590556, 0.56917101]])"
      ],
      "metadata": {
        "id": "hb7LpSMMjLTw"
      },
      "execution_count": 375,
      "outputs": []
    },
    {
      "cell_type": "code",
      "source": [
        "a.sum()"
      ],
      "metadata": {
        "colab": {
          "base_uri": "https://localhost:8080/"
        },
        "id": "a-twQqpojLRP",
        "outputId": "f1bdf6d0-1a4d-4452-e616-a18ff63aebd7"
      },
      "execution_count": 376,
      "outputs": [
        {
          "output_type": "execute_result",
          "data": {
            "text/plain": [
              "4.8595784"
            ]
          },
          "metadata": {},
          "execution_count": 376
        }
      ]
    },
    {
      "cell_type": "markdown",
      "source": [
        "or"
      ],
      "metadata": {
        "id": "FwNTKQMcjZ9D"
      }
    },
    {
      "cell_type": "code",
      "source": [
        "a.min()"
      ],
      "metadata": {
        "colab": {
          "base_uri": "https://localhost:8080/"
        },
        "id": "Cay7W7Whja4B",
        "outputId": "70c706b1-0034-49fd-ae3e-6837ab3f2447"
      },
      "execution_count": 377,
      "outputs": [
        {
          "output_type": "execute_result",
          "data": {
            "text/plain": [
              "0.05093587"
            ]
          },
          "metadata": {},
          "execution_count": 377
        }
      ]
    },
    {
      "cell_type": "code",
      "source": [
        "a.min(axis=0)"
      ],
      "metadata": {
        "colab": {
          "base_uri": "https://localhost:8080/"
        },
        "id": "AZsxQvp8jdU2",
        "outputId": "f6611cba-35a8-444e-fbe8-581e892b289c"
      },
      "execution_count": 378,
      "outputs": [
        {
          "output_type": "execute_result",
          "data": {
            "text/plain": [
              "array([0.12697628, 0.05093587, 0.26590556, 0.5510652 ])"
            ]
          },
          "metadata": {},
          "execution_count": 378
        }
      ]
    },
    {
      "cell_type": "markdown",
      "source": [
        "# Creating matrices"
      ],
      "metadata": {
        "id": "B6Wvw_0Jje9e"
      }
    },
    {
      "cell_type": "code",
      "source": [
        "data = np.array([[1, 2], [3, 4], [5, 6]])\n",
        "data"
      ],
      "metadata": {
        "colab": {
          "base_uri": "https://localhost:8080/"
        },
        "id": "HMdsmAe3ji5k",
        "outputId": "b9cf5cd3-5e8b-4d95-faa6-9aa931e93886"
      },
      "execution_count": 379,
      "outputs": [
        {
          "output_type": "execute_result",
          "data": {
            "text/plain": [
              "array([[1, 2],\n",
              "       [3, 4],\n",
              "       [5, 6]])"
            ]
          },
          "metadata": {},
          "execution_count": 379
        }
      ]
    },
    {
      "cell_type": "code",
      "source": [
        "data[0, 1]"
      ],
      "metadata": {
        "colab": {
          "base_uri": "https://localhost:8080/"
        },
        "id": "Kh5rP3oUjl_E",
        "outputId": "5895928f-da95-4c5d-db46-c2a0b88b4b18"
      },
      "execution_count": 380,
      "outputs": [
        {
          "output_type": "execute_result",
          "data": {
            "text/plain": [
              "2"
            ]
          },
          "metadata": {},
          "execution_count": 380
        }
      ]
    },
    {
      "cell_type": "code",
      "source": [
        "data[1:3]\n"
      ],
      "metadata": {
        "colab": {
          "base_uri": "https://localhost:8080/"
        },
        "id": "yKO0GXEvkwkq",
        "outputId": "3a1cf304-fc1e-4854-af92-65afa3773e08"
      },
      "execution_count": 381,
      "outputs": [
        {
          "output_type": "execute_result",
          "data": {
            "text/plain": [
              "array([[3, 4],\n",
              "       [5, 6]])"
            ]
          },
          "metadata": {},
          "execution_count": 381
        }
      ]
    },
    {
      "cell_type": "code",
      "source": [
        "data[0:2, 0]"
      ],
      "metadata": {
        "colab": {
          "base_uri": "https://localhost:8080/"
        },
        "id": "xVzTH5xykwhG",
        "outputId": "5375c394-ee74-4e4e-bd90-5195913510c3"
      },
      "execution_count": 382,
      "outputs": [
        {
          "output_type": "execute_result",
          "data": {
            "text/plain": [
              "array([1, 3])"
            ]
          },
          "metadata": {},
          "execution_count": 382
        }
      ]
    },
    {
      "cell_type": "code",
      "source": [
        "data.max()"
      ],
      "metadata": {
        "colab": {
          "base_uri": "https://localhost:8080/"
        },
        "id": "taSbsE5Njo3W",
        "outputId": "a143112a-3599-43cb-beb3-593d2c72ecb7"
      },
      "execution_count": 383,
      "outputs": [
        {
          "output_type": "execute_result",
          "data": {
            "text/plain": [
              "6"
            ]
          },
          "metadata": {},
          "execution_count": 383
        }
      ]
    },
    {
      "cell_type": "code",
      "source": [
        "data.min()\n"
      ],
      "metadata": {
        "colab": {
          "base_uri": "https://localhost:8080/"
        },
        "id": "EOQRZRmhk0tW",
        "outputId": "cd3cf9f0-1389-47a7-e5a6-bae67633c8ef"
      },
      "execution_count": 384,
      "outputs": [
        {
          "output_type": "execute_result",
          "data": {
            "text/plain": [
              "1"
            ]
          },
          "metadata": {},
          "execution_count": 384
        }
      ]
    },
    {
      "cell_type": "code",
      "source": [
        "data.sum()"
      ],
      "metadata": {
        "colab": {
          "base_uri": "https://localhost:8080/"
        },
        "id": "kNGg6iMck0qr",
        "outputId": "2978d4f7-bac4-48a9-c1af-ad0aaffbf3b9"
      },
      "execution_count": 385,
      "outputs": [
        {
          "output_type": "execute_result",
          "data": {
            "text/plain": [
              "21"
            ]
          },
          "metadata": {},
          "execution_count": 385
        }
      ]
    },
    {
      "cell_type": "code",
      "source": [
        "data = np.array([[1, 2], [5, 3], [4, 6]])\n",
        "data\n",
        "\n"
      ],
      "metadata": {
        "colab": {
          "base_uri": "https://localhost:8080/"
        },
        "id": "jVU3IjqNjsx5",
        "outputId": "c68c08c4-1285-4565-feab-36d2e5cf3b71"
      },
      "execution_count": 386,
      "outputs": [
        {
          "output_type": "execute_result",
          "data": {
            "text/plain": [
              "array([[1, 2],\n",
              "       [5, 3],\n",
              "       [4, 6]])"
            ]
          },
          "metadata": {},
          "execution_count": 386
        }
      ]
    },
    {
      "cell_type": "code",
      "source": [
        "data.max(axis=0)"
      ],
      "metadata": {
        "colab": {
          "base_uri": "https://localhost:8080/"
        },
        "id": "UGJX0weDjxDS",
        "outputId": "8f3b6ef4-ccba-4463-f1f5-aee79ad453c9"
      },
      "execution_count": 387,
      "outputs": [
        {
          "output_type": "execute_result",
          "data": {
            "text/plain": [
              "array([5, 6])"
            ]
          },
          "metadata": {},
          "execution_count": 387
        }
      ]
    },
    {
      "cell_type": "code",
      "source": [
        "\n",
        "data.max(axis=1)"
      ],
      "metadata": {
        "colab": {
          "base_uri": "https://localhost:8080/"
        },
        "id": "-QbL0_yDk7He",
        "outputId": "ca0ff97e-cc1b-4165-bd06-dedaee16444b"
      },
      "execution_count": 388,
      "outputs": [
        {
          "output_type": "execute_result",
          "data": {
            "text/plain": [
              "array([2, 5, 6])"
            ]
          },
          "metadata": {},
          "execution_count": 388
        }
      ]
    },
    {
      "cell_type": "code",
      "source": [
        "data = np.array([[1, 2], [3, 4]])\n",
        "ones = np.array([[1, 1], [1, 1]])\n",
        "data + ones"
      ],
      "metadata": {
        "colab": {
          "base_uri": "https://localhost:8080/"
        },
        "id": "tMdHW1uulBp-",
        "outputId": "f1cd7739-1f9c-414b-8a1a-3d0b3cd13357"
      },
      "execution_count": 389,
      "outputs": [
        {
          "output_type": "execute_result",
          "data": {
            "text/plain": [
              "array([[2, 3],\n",
              "       [4, 5]])"
            ]
          },
          "metadata": {},
          "execution_count": 389
        }
      ]
    },
    {
      "cell_type": "code",
      "source": [
        "data = np.array([[1, 2], [3, 4], [5, 6]])\n",
        "ones_row = np.array([[1, 1]])\n",
        "data + ones_row"
      ],
      "metadata": {
        "colab": {
          "base_uri": "https://localhost:8080/"
        },
        "id": "MPK2Z1k5lBmx",
        "outputId": "c94bbe10-247e-4391-c9d2-c50dc2930d15"
      },
      "execution_count": 390,
      "outputs": [
        {
          "output_type": "execute_result",
          "data": {
            "text/plain": [
              "array([[2, 3],\n",
              "       [4, 5],\n",
              "       [6, 7]])"
            ]
          },
          "metadata": {},
          "execution_count": 390
        }
      ]
    },
    {
      "cell_type": "code",
      "source": [
        "np.ones((4, 3, 2))"
      ],
      "metadata": {
        "colab": {
          "base_uri": "https://localhost:8080/"
        },
        "id": "2ipzyrX3lBkl",
        "outputId": "50cca8c2-9ff3-4d1b-e3d6-0f8e8a76efdc"
      },
      "execution_count": 391,
      "outputs": [
        {
          "output_type": "execute_result",
          "data": {
            "text/plain": [
              "array([[[1., 1.],\n",
              "        [1., 1.],\n",
              "        [1., 1.]],\n",
              "\n",
              "       [[1., 1.],\n",
              "        [1., 1.],\n",
              "        [1., 1.]],\n",
              "\n",
              "       [[1., 1.],\n",
              "        [1., 1.],\n",
              "        [1., 1.]],\n",
              "\n",
              "       [[1., 1.],\n",
              "        [1., 1.],\n",
              "        [1., 1.]]])"
            ]
          },
          "metadata": {},
          "execution_count": 391
        }
      ]
    },
    {
      "cell_type": "code",
      "source": [
        "np.ones(3)\n"
      ],
      "metadata": {
        "colab": {
          "base_uri": "https://localhost:8080/"
        },
        "id": "Q-qpmioPlBhm",
        "outputId": "1d6446af-39dc-4d3b-961d-0aaae3b90f13"
      },
      "execution_count": 392,
      "outputs": [
        {
          "output_type": "execute_result",
          "data": {
            "text/plain": [
              "array([1., 1., 1.])"
            ]
          },
          "metadata": {},
          "execution_count": 392
        }
      ]
    },
    {
      "cell_type": "code",
      "source": [
        "np.zeros(3)\n"
      ],
      "metadata": {
        "colab": {
          "base_uri": "https://localhost:8080/"
        },
        "id": "Z93cgAOGlBfX",
        "outputId": "4efe519d-5e90-4288-eaae-0962bdbc1da8"
      },
      "execution_count": 393,
      "outputs": [
        {
          "output_type": "execute_result",
          "data": {
            "text/plain": [
              "array([0., 0., 0.])"
            ]
          },
          "metadata": {},
          "execution_count": 393
        }
      ]
    },
    {
      "cell_type": "code",
      "source": [
        "rng = np.random.default_rng()  # the simplest way to generate random numbers\n",
        "rng.random(3)"
      ],
      "metadata": {
        "colab": {
          "base_uri": "https://localhost:8080/"
        },
        "id": "h04rIaVylBdG",
        "outputId": "6f8ab574-7302-4ffe-8dc5-b9f8a3ae4c58"
      },
      "execution_count": 394,
      "outputs": [
        {
          "output_type": "execute_result",
          "data": {
            "text/plain": [
              "array([0.24431894, 0.1680604 , 0.75711964])"
            ]
          },
          "metadata": {},
          "execution_count": 394
        }
      ]
    },
    {
      "cell_type": "code",
      "source": [
        "np.ones((3, 2))"
      ],
      "metadata": {
        "colab": {
          "base_uri": "https://localhost:8080/"
        },
        "id": "KxYm7kkLlBae",
        "outputId": "aa15ba68-0495-40a0-b055-9c50293b3190"
      },
      "execution_count": 395,
      "outputs": [
        {
          "output_type": "execute_result",
          "data": {
            "text/plain": [
              "array([[1., 1.],\n",
              "       [1., 1.],\n",
              "       [1., 1.]])"
            ]
          },
          "metadata": {},
          "execution_count": 395
        }
      ]
    },
    {
      "cell_type": "code",
      "source": [
        "\n",
        "np.zeros((3, 2))\n"
      ],
      "metadata": {
        "colab": {
          "base_uri": "https://localhost:8080/"
        },
        "id": "4yhNYViflBYr",
        "outputId": "ed358ff8-77b0-4d82-ed0c-f776fe306c9e"
      },
      "execution_count": 396,
      "outputs": [
        {
          "output_type": "execute_result",
          "data": {
            "text/plain": [
              "array([[0., 0.],\n",
              "       [0., 0.],\n",
              "       [0., 0.]])"
            ]
          },
          "metadata": {},
          "execution_count": 396
        }
      ]
    },
    {
      "cell_type": "code",
      "source": [
        "\n",
        "rng.random((3, 2))"
      ],
      "metadata": {
        "colab": {
          "base_uri": "https://localhost:8080/"
        },
        "id": "d2bXo1AplBWN",
        "outputId": "96a28a19-7abe-4b53-a7e5-4275b119f143"
      },
      "execution_count": 397,
      "outputs": [
        {
          "output_type": "execute_result",
          "data": {
            "text/plain": [
              "array([[0.82941365, 0.81162451],\n",
              "       [0.25793779, 0.17312797],\n",
              "       [0.17509123, 0.89415426]])"
            ]
          },
          "metadata": {},
          "execution_count": 397
        }
      ]
    },
    {
      "cell_type": "markdown",
      "source": [
        "# Generating random numbers"
      ],
      "metadata": {
        "id": "YxftpZJllaM7"
      }
    },
    {
      "cell_type": "code",
      "source": [
        "rng.integers(5, size=(2, 4))"
      ],
      "metadata": {
        "colab": {
          "base_uri": "https://localhost:8080/"
        },
        "id": "IH0ibfwOlBS1",
        "outputId": "6666436c-3229-4bbd-d63b-16d9628db18f"
      },
      "execution_count": 398,
      "outputs": [
        {
          "output_type": "execute_result",
          "data": {
            "text/plain": [
              "array([[0, 2, 3, 1],\n",
              "       [3, 0, 2, 1]])"
            ]
          },
          "metadata": {},
          "execution_count": 398
        }
      ]
    },
    {
      "cell_type": "markdown",
      "source": [
        "# How to get unique items and counts"
      ],
      "metadata": {
        "id": "iDU9WmEMld_A"
      }
    },
    {
      "cell_type": "code",
      "source": [
        "a = np.array([11, 11, 12, 13, 14, 15, 16, 17, 12, 13, 11, 14, 18, 19, 20])"
      ],
      "metadata": {
        "id": "Gvjg03-2lBQM"
      },
      "execution_count": 399,
      "outputs": []
    },
    {
      "cell_type": "code",
      "source": [
        "unique_values = np.unique(a)\n",
        "print(unique_values)"
      ],
      "metadata": {
        "colab": {
          "base_uri": "https://localhost:8080/"
        },
        "id": "BQkiOJUjlBNk",
        "outputId": "d6cd7549-c3e0-4ad7-9d54-14a4fb91fc27"
      },
      "execution_count": 400,
      "outputs": [
        {
          "output_type": "stream",
          "name": "stdout",
          "text": [
            "[11 12 13 14 15 16 17 18 19 20]\n"
          ]
        }
      ]
    },
    {
      "cell_type": "code",
      "source": [
        "unique_values, indices_list = np.unique(a, return_index=True)\n",
        "print(indices_list)"
      ],
      "metadata": {
        "colab": {
          "base_uri": "https://localhost:8080/"
        },
        "id": "faICouPNlBLB",
        "outputId": "e68f221d-dd02-432e-bad9-54e1a8b750ec"
      },
      "execution_count": 401,
      "outputs": [
        {
          "output_type": "stream",
          "name": "stdout",
          "text": [
            "[ 0  2  3  4  5  6  7 12 13 14]\n"
          ]
        }
      ]
    },
    {
      "cell_type": "code",
      "source": [
        "unique_values, occurrence_count = np.unique(a, return_counts=True)\n",
        "print(occurrence_count)"
      ],
      "metadata": {
        "colab": {
          "base_uri": "https://localhost:8080/"
        },
        "id": "tfuS60MplBG8",
        "outputId": "e650d60a-87e3-4ba8-85e6-bc4504635d67"
      },
      "execution_count": 402,
      "outputs": [
        {
          "output_type": "stream",
          "name": "stdout",
          "text": [
            "[3 2 2 2 1 1 1 1 1 1]\n"
          ]
        }
      ]
    },
    {
      "cell_type": "code",
      "source": [
        "a_2d = np.array([[1, 2, 3, 4], [5, 6, 7, 8], [9, 10, 11, 12], [1, 2, 3, 4]])"
      ],
      "metadata": {
        "id": "pBX70oHrllaD"
      },
      "execution_count": 403,
      "outputs": []
    },
    {
      "cell_type": "code",
      "source": [
        "unique_values = np.unique(a_2d)\n",
        "print(unique_values)"
      ],
      "metadata": {
        "colab": {
          "base_uri": "https://localhost:8080/"
        },
        "id": "ODBlwaI4llXA",
        "outputId": "a30b1788-54ba-447d-a0e8-9d585a194e4d"
      },
      "execution_count": 404,
      "outputs": [
        {
          "output_type": "stream",
          "name": "stdout",
          "text": [
            "[ 1  2  3  4  5  6  7  8  9 10 11 12]\n"
          ]
        }
      ]
    },
    {
      "cell_type": "code",
      "source": [
        "unique_rows = np.unique(a_2d, axis=0)\n",
        "print(unique_rows)"
      ],
      "metadata": {
        "colab": {
          "base_uri": "https://localhost:8080/"
        },
        "id": "duLgfRMZllUz",
        "outputId": "c6069ca0-1587-45ec-a2ee-df7e88cedf3c"
      },
      "execution_count": 405,
      "outputs": [
        {
          "output_type": "stream",
          "name": "stdout",
          "text": [
            "[[ 1  2  3  4]\n",
            " [ 5  6  7  8]\n",
            " [ 9 10 11 12]]\n"
          ]
        }
      ]
    },
    {
      "cell_type": "code",
      "source": [
        "unique_rows, indices, occurrence_count = np.unique(\n",
        "     a_2d, axis=0, return_counts=True, return_index=True)\n",
        "print(unique_rows)\n"
      ],
      "metadata": {
        "colab": {
          "base_uri": "https://localhost:8080/"
        },
        "id": "qlor0ou9llS7",
        "outputId": "4d85614d-cdc6-471b-8efc-b13e6a7fe8f2"
      },
      "execution_count": 406,
      "outputs": [
        {
          "output_type": "stream",
          "name": "stdout",
          "text": [
            "[[ 1  2  3  4]\n",
            " [ 5  6  7  8]\n",
            " [ 9 10 11 12]]\n"
          ]
        }
      ]
    },
    {
      "cell_type": "code",
      "source": [
        "print(indices)\n"
      ],
      "metadata": {
        "colab": {
          "base_uri": "https://localhost:8080/"
        },
        "id": "jSaIAKmSllQF",
        "outputId": "c1cf658c-43ba-4cbc-fedc-b0c3fa257ed1"
      },
      "execution_count": 407,
      "outputs": [
        {
          "output_type": "stream",
          "name": "stdout",
          "text": [
            "[0 1 2]\n"
          ]
        }
      ]
    },
    {
      "cell_type": "code",
      "source": [
        "print(occurrence_count)"
      ],
      "metadata": {
        "colab": {
          "base_uri": "https://localhost:8080/"
        },
        "id": "LqIvXQvflqD8",
        "outputId": "7bb2b255-4c52-4da0-ded8-9686b47e0a37"
      },
      "execution_count": 408,
      "outputs": [
        {
          "output_type": "stream",
          "name": "stdout",
          "text": [
            "[2 1 1]\n"
          ]
        }
      ]
    },
    {
      "cell_type": "markdown",
      "source": [
        "# Transposing and reshaping a matrix"
      ],
      "metadata": {
        "id": "Txr7vZShl2fv"
      }
    },
    {
      "cell_type": "code",
      "source": [
        "data.reshape(2, 3)\n"
      ],
      "metadata": {
        "colab": {
          "base_uri": "https://localhost:8080/"
        },
        "id": "NK77CQuWlqAZ",
        "outputId": "729bd3b9-4998-4bc1-8040-2ff05a27865a"
      },
      "execution_count": 409,
      "outputs": [
        {
          "output_type": "execute_result",
          "data": {
            "text/plain": [
              "array([[1, 2, 3],\n",
              "       [4, 5, 6]])"
            ]
          },
          "metadata": {},
          "execution_count": 409
        }
      ]
    },
    {
      "cell_type": "code",
      "source": [
        "\n",
        "data.reshape(3, 2)"
      ],
      "metadata": {
        "colab": {
          "base_uri": "https://localhost:8080/"
        },
        "id": "HM0Wfanwlp93",
        "outputId": "99d9b75c-1327-4034-9a5d-9bbd4392b585"
      },
      "execution_count": 410,
      "outputs": [
        {
          "output_type": "execute_result",
          "data": {
            "text/plain": [
              "array([[1, 2],\n",
              "       [3, 4],\n",
              "       [5, 6]])"
            ]
          },
          "metadata": {},
          "execution_count": 410
        }
      ]
    },
    {
      "cell_type": "code",
      "source": [
        "arr = np.arange(6).reshape((2, 3))\n",
        "arr"
      ],
      "metadata": {
        "colab": {
          "base_uri": "https://localhost:8080/"
        },
        "id": "od4UWOSwlp7c",
        "outputId": "23200d8c-c62a-4c10-e357-1e18c579c380"
      },
      "execution_count": 411,
      "outputs": [
        {
          "output_type": "execute_result",
          "data": {
            "text/plain": [
              "array([[0, 1, 2],\n",
              "       [3, 4, 5]])"
            ]
          },
          "metadata": {},
          "execution_count": 411
        }
      ]
    },
    {
      "cell_type": "code",
      "source": [
        "arr.transpose()"
      ],
      "metadata": {
        "colab": {
          "base_uri": "https://localhost:8080/"
        },
        "id": "Rbgedtc0lp5Y",
        "outputId": "3f4abe0c-d1c7-443f-a3f3-1496b359e9b1"
      },
      "execution_count": 412,
      "outputs": [
        {
          "output_type": "execute_result",
          "data": {
            "text/plain": [
              "array([[0, 3],\n",
              "       [1, 4],\n",
              "       [2, 5]])"
            ]
          },
          "metadata": {},
          "execution_count": 412
        }
      ]
    },
    {
      "cell_type": "code",
      "source": [
        "arr.T"
      ],
      "metadata": {
        "colab": {
          "base_uri": "https://localhost:8080/"
        },
        "id": "1ZuPaGBLlp2j",
        "outputId": "7a0713a7-2b3a-4522-9884-2a0c7ba40430"
      },
      "execution_count": 413,
      "outputs": [
        {
          "output_type": "execute_result",
          "data": {
            "text/plain": [
              "array([[0, 3],\n",
              "       [1, 4],\n",
              "       [2, 5]])"
            ]
          },
          "metadata": {},
          "execution_count": 413
        }
      ]
    },
    {
      "cell_type": "markdown",
      "source": [
        "# How to reverse an array"
      ],
      "metadata": {
        "id": "KIIBfDezmOdZ"
      }
    },
    {
      "cell_type": "code",
      "source": [
        "arr = np.array([1, 2, 3, 4, 5, 6, 7, 8])"
      ],
      "metadata": {
        "id": "6YCsSB10mMw3"
      },
      "execution_count": 414,
      "outputs": []
    },
    {
      "cell_type": "code",
      "source": [
        "reversed_arr = np.flip(arr)"
      ],
      "metadata": {
        "id": "w6mE2oCOmMuk"
      },
      "execution_count": 415,
      "outputs": []
    },
    {
      "cell_type": "code",
      "source": [
        "print('Reversed Array: ', reversed_arr)"
      ],
      "metadata": {
        "colab": {
          "base_uri": "https://localhost:8080/"
        },
        "id": "gmGN6cP4mMq3",
        "outputId": "95d3b03d-a56c-441e-83c8-ebf1afeeb2c6"
      },
      "execution_count": 416,
      "outputs": [
        {
          "output_type": "stream",
          "name": "stdout",
          "text": [
            "Reversed Array:  [8 7 6 5 4 3 2 1]\n"
          ]
        }
      ]
    },
    {
      "cell_type": "markdown",
      "source": [
        "## Reversing a 2D array"
      ],
      "metadata": {
        "id": "LKfQfQcHmVSA"
      }
    },
    {
      "cell_type": "code",
      "source": [
        "arr_2d = np.array([[1, 2, 3, 4], [5, 6, 7, 8], [9, 10, 11, 12]])"
      ],
      "metadata": {
        "id": "fUfBBHm4mMoT"
      },
      "execution_count": 417,
      "outputs": []
    },
    {
      "cell_type": "code",
      "source": [
        "reversed_arr = np.flip(arr_2d)\n",
        "print(reversed_arr)"
      ],
      "metadata": {
        "colab": {
          "base_uri": "https://localhost:8080/"
        },
        "id": "oTIUGx0HmMmN",
        "outputId": "5e3824a5-01eb-442b-8c42-bf1a42cb796e"
      },
      "execution_count": 418,
      "outputs": [
        {
          "output_type": "stream",
          "name": "stdout",
          "text": [
            "[[12 11 10  9]\n",
            " [ 8  7  6  5]\n",
            " [ 4  3  2  1]]\n"
          ]
        }
      ]
    },
    {
      "cell_type": "code",
      "source": [
        "reversed_arr_rows = np.flip(arr_2d, axis=0)\n",
        "print(reversed_arr_rows)"
      ],
      "metadata": {
        "colab": {
          "base_uri": "https://localhost:8080/"
        },
        "id": "cZ8iGrv0maPQ",
        "outputId": "162e9503-fb08-483e-b5b6-dadbca2ec2b7"
      },
      "execution_count": 419,
      "outputs": [
        {
          "output_type": "stream",
          "name": "stdout",
          "text": [
            "[[ 9 10 11 12]\n",
            " [ 5  6  7  8]\n",
            " [ 1  2  3  4]]\n"
          ]
        }
      ]
    },
    {
      "cell_type": "code",
      "source": [
        "reversed_arr_columns = np.flip(arr_2d, axis=1)\n",
        "print(reversed_arr_columns)"
      ],
      "metadata": {
        "colab": {
          "base_uri": "https://localhost:8080/"
        },
        "id": "o6VLFOf9maMX",
        "outputId": "3415c918-3ac9-451f-a2e5-5ab7073ba7e8"
      },
      "execution_count": 420,
      "outputs": [
        {
          "output_type": "stream",
          "name": "stdout",
          "text": [
            "[[ 4  3  2  1]\n",
            " [ 8  7  6  5]\n",
            " [12 11 10  9]]\n"
          ]
        }
      ]
    },
    {
      "cell_type": "code",
      "source": [
        "arr_2d[1] = np.flip(arr_2d[1])\n",
        "print(arr_2d)"
      ],
      "metadata": {
        "colab": {
          "base_uri": "https://localhost:8080/"
        },
        "id": "zb3YjZYFmaJs",
        "outputId": "133158da-f8f0-4aa3-fb2b-917c0d0f27b9"
      },
      "execution_count": 421,
      "outputs": [
        {
          "output_type": "stream",
          "name": "stdout",
          "text": [
            "[[ 1  2  3  4]\n",
            " [ 8  7  6  5]\n",
            " [ 9 10 11 12]]\n"
          ]
        }
      ]
    },
    {
      "cell_type": "code",
      "source": [
        "arr_2d[:,1] = np.flip(arr_2d[:,1])\n",
        "print(arr_2d)"
      ],
      "metadata": {
        "colab": {
          "base_uri": "https://localhost:8080/"
        },
        "id": "7htapemOmaHU",
        "outputId": "78254124-bacf-4748-9936-e3b3e26032ad"
      },
      "execution_count": 422,
      "outputs": [
        {
          "output_type": "stream",
          "name": "stdout",
          "text": [
            "[[ 1 10  3  4]\n",
            " [ 8  7  6  5]\n",
            " [ 9  2 11 12]]\n"
          ]
        }
      ]
    },
    {
      "cell_type": "markdown",
      "source": [
        "# Reshaping and flattening multidimensional arrays"
      ],
      "metadata": {
        "id": "-jdU1KNxmgUw"
      }
    },
    {
      "cell_type": "code",
      "source": [
        "x = np.array([[1 , 2, 3, 4], [5, 6, 7, 8], [9, 10, 11, 12]])"
      ],
      "metadata": {
        "id": "8DGxiolQmaFV"
      },
      "execution_count": 423,
      "outputs": []
    },
    {
      "cell_type": "code",
      "source": [
        "x.flatten()"
      ],
      "metadata": {
        "colab": {
          "base_uri": "https://localhost:8080/"
        },
        "id": "ctw-aSJRmaCJ",
        "outputId": "c9c57207-1ecd-4dce-f240-f595a71a34c4"
      },
      "execution_count": 424,
      "outputs": [
        {
          "output_type": "execute_result",
          "data": {
            "text/plain": [
              "array([ 1,  2,  3,  4,  5,  6,  7,  8,  9, 10, 11, 12])"
            ]
          },
          "metadata": {},
          "execution_count": 424
        }
      ]
    },
    {
      "cell_type": "code",
      "source": [
        "a1 = x.flatten()\n",
        "a1[0] = 99\n",
        "print(x)  # Original array"
      ],
      "metadata": {
        "colab": {
          "base_uri": "https://localhost:8080/"
        },
        "id": "62H44rsvmkEP",
        "outputId": "a1761ec3-b39b-4ecd-ae75-57516503cb81"
      },
      "execution_count": 425,
      "outputs": [
        {
          "output_type": "stream",
          "name": "stdout",
          "text": [
            "[[ 1  2  3  4]\n",
            " [ 5  6  7  8]\n",
            " [ 9 10 11 12]]\n"
          ]
        }
      ]
    },
    {
      "cell_type": "code",
      "source": [
        "\n",
        "print(a1)  # New array"
      ],
      "metadata": {
        "colab": {
          "base_uri": "https://localhost:8080/"
        },
        "id": "a9nyqWY3mk8F",
        "outputId": "f7e4de16-ed85-4dbf-d875-3f97caac2a8e"
      },
      "execution_count": 426,
      "outputs": [
        {
          "output_type": "stream",
          "name": "stdout",
          "text": [
            "[99  2  3  4  5  6  7  8  9 10 11 12]\n"
          ]
        }
      ]
    },
    {
      "cell_type": "code",
      "source": [
        "a2 = x.ravel()\n",
        "a2[0] = 98\n",
        "print(x)  # Original array"
      ],
      "metadata": {
        "colab": {
          "base_uri": "https://localhost:8080/"
        },
        "id": "WO83VPkDmqFw",
        "outputId": "0bd71489-8811-4cd1-fd98-db8b76e49108"
      },
      "execution_count": 427,
      "outputs": [
        {
          "output_type": "stream",
          "name": "stdout",
          "text": [
            "[[98  2  3  4]\n",
            " [ 5  6  7  8]\n",
            " [ 9 10 11 12]]\n"
          ]
        }
      ]
    },
    {
      "cell_type": "code",
      "source": [
        "\n",
        "print(a2)  # New array"
      ],
      "metadata": {
        "colab": {
          "base_uri": "https://localhost:8080/"
        },
        "id": "2hwyOjd4mr6j",
        "outputId": "fdc0f5b2-98a4-44b9-fb1a-d6a34a5001d2"
      },
      "execution_count": 428,
      "outputs": [
        {
          "output_type": "stream",
          "name": "stdout",
          "text": [
            "[98  2  3  4  5  6  7  8  9 10 11 12]\n"
          ]
        }
      ]
    },
    {
      "cell_type": "markdown",
      "source": [
        "# How to access the docstring for more information"
      ],
      "metadata": {
        "id": "saFRW_8Vmxeb"
      }
    },
    {
      "cell_type": "code",
      "source": [
        "help(max)\n",
        "\n"
      ],
      "metadata": {
        "colab": {
          "base_uri": "https://localhost:8080/"
        },
        "id": "YMfNvPKlmwvo",
        "outputId": "00e37cb3-f666-43f0-9f27-437a6b69908b"
      },
      "execution_count": 429,
      "outputs": [
        {
          "output_type": "stream",
          "name": "stdout",
          "text": [
            "Help on built-in function max in module builtins:\n",
            "\n",
            "max(...)\n",
            "    max(iterable, *[, default=obj, key=func]) -> value\n",
            "    max(arg1, arg2, *args, *[, key=func]) -> value\n",
            "    \n",
            "    With a single iterable argument, return its biggest item. The\n",
            "    default keyword-only argument specifies an object to return if\n",
            "    the provided iterable is empty.\n",
            "    With two or more arguments, return the largest argument.\n",
            "\n"
          ]
        }
      ]
    },
    {
      "cell_type": "code",
      "source": [
        "max?\n"
      ],
      "metadata": {
        "id": "YBb-RF1jmwsZ"
      },
      "execution_count": 430,
      "outputs": []
    },
    {
      "cell_type": "code",
      "source": [
        "a = np.array([1, 2, 3, 4, 5, 6])"
      ],
      "metadata": {
        "id": "v2D0fN-Nmwpe"
      },
      "execution_count": 431,
      "outputs": []
    },
    {
      "cell_type": "code",
      "source": [
        "a?"
      ],
      "metadata": {
        "id": "6X_gwy2jmwm4"
      },
      "execution_count": 432,
      "outputs": []
    },
    {
      "cell_type": "code",
      "source": [
        "def double(a):\n",
        "  '''Return a * 2'''\n",
        "  return a * 2"
      ],
      "metadata": {
        "id": "wnSR8-L3mwkQ"
      },
      "execution_count": 433,
      "outputs": []
    },
    {
      "cell_type": "code",
      "source": [
        "double??"
      ],
      "metadata": {
        "id": "5OShVzaEmwhW"
      },
      "execution_count": 434,
      "outputs": []
    },
    {
      "cell_type": "code",
      "source": [
        "len??"
      ],
      "metadata": {
        "id": "R1kHpSkpmwfT"
      },
      "execution_count": 435,
      "outputs": []
    },
    {
      "cell_type": "markdown",
      "source": [
        "# Working with mathematical formulas"
      ],
      "metadata": {
        "id": "z5X4aWmdnASt"
      }
    },
    {
      "cell_type": "code",
      "source": [
        "a = np.array([1, 2, 3, 4, 5, 6])"
      ],
      "metadata": {
        "id": "xRTl2ZBamwdH"
      },
      "execution_count": 436,
      "outputs": []
    },
    {
      "cell_type": "code",
      "source": [
        "np.save('filename', a)"
      ],
      "metadata": {
        "id": "e7sTEvnOmwYD"
      },
      "execution_count": 437,
      "outputs": []
    },
    {
      "cell_type": "code",
      "source": [
        "b = np.load('filename.npy')"
      ],
      "metadata": {
        "id": "BI1mQJN2mwVV"
      },
      "execution_count": 438,
      "outputs": []
    },
    {
      "cell_type": "code",
      "source": [
        "print(b)"
      ],
      "metadata": {
        "colab": {
          "base_uri": "https://localhost:8080/"
        },
        "id": "mL_hs6IQmwSR",
        "outputId": "9f23e91b-6a5f-40a8-ad93-82bf4876a08a"
      },
      "execution_count": 439,
      "outputs": [
        {
          "output_type": "stream",
          "name": "stdout",
          "text": [
            "[1 2 3 4 5 6]\n"
          ]
        }
      ]
    },
    {
      "cell_type": "code",
      "source": [
        "csv_arr = np.array([1, 2, 3, 4, 5, 6, 7, 8])"
      ],
      "metadata": {
        "id": "jKl6qLp2mwPr"
      },
      "execution_count": 440,
      "outputs": []
    },
    {
      "cell_type": "code",
      "source": [
        "np.savetxt('new_file.csv', csv_arr)"
      ],
      "metadata": {
        "id": "_N8Xefpfmv3m"
      },
      "execution_count": 441,
      "outputs": []
    },
    {
      "cell_type": "code",
      "source": [
        "np.loadtxt('new_file.csv')"
      ],
      "metadata": {
        "colab": {
          "base_uri": "https://localhost:8080/"
        },
        "id": "OLg5RuIqnJfJ",
        "outputId": "e5990f3f-485c-4704-b516-0b19bf5d8d2e"
      },
      "execution_count": 442,
      "outputs": [
        {
          "output_type": "execute_result",
          "data": {
            "text/plain": [
              "array([1., 2., 3., 4., 5., 6., 7., 8.])"
            ]
          },
          "metadata": {},
          "execution_count": 442
        }
      ]
    },
    {
      "cell_type": "markdown",
      "source": [
        "# Importing and exporting a CSV"
      ],
      "metadata": {
        "id": "GzdCUYaunMy0"
      }
    },
    {
      "cell_type": "markdown",
      "source": [
        "![image.png](data:image/png;base64,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)"
      ],
      "metadata": {
        "id": "Kaw3nXv3nYSu"
      }
    },
    {
      "cell_type": "code",
      "source": [
        "import pandas as pd\n",
        "\n",
        "# Load the Excel file instead of CSV\n",
        "df = pd.read_excel('music.xlsx')\n",
        "\n",
        "# Display the data\n",
        "print(df)\n"
      ],
      "metadata": {
        "colab": {
          "base_uri": "https://localhost:8080/"
        },
        "id": "xOcB1aMWnJbD",
        "outputId": "9b6fa964-ff65-4e5e-86be-8d69295fda5b"
      },
      "execution_count": 443,
      "outputs": [
        {
          "output_type": "stream",
          "name": "stdout",
          "text": [
            "           Artist Genre  Listeners     Plays\n",
            "0  Billie Holiday  Jazz    1300000  27000000\n",
            "1    Jimi Hendrix  Rock    2700000  70000000\n",
            "2     Miles Davis  Jazz    1500000  48000000\n",
            "3             SIA   Pop    2000000  74000000\n"
          ]
        }
      ]
    },
    {
      "cell_type": "code",
      "source": [
        "x = pd.read_excel('music.xlsx', usecols=['Artist', 'Plays']).values\n",
        "\n",
        "# Display the data\n",
        "print(x)\n"
      ],
      "metadata": {
        "id": "ECHMfD2SoNbi",
        "outputId": "6e3ae0dc-6944-4a96-a613-46b1d763ce5a",
        "colab": {
          "base_uri": "https://localhost:8080/"
        }
      },
      "execution_count": 444,
      "outputs": [
        {
          "output_type": "stream",
          "name": "stdout",
          "text": [
            "[['Billie Holiday' 27000000]\n",
            " ['Jimi Hendrix' 70000000]\n",
            " ['Miles Davis' 48000000]\n",
            " ['SIA' 74000000]]\n"
          ]
        }
      ]
    },
    {
      "cell_type": "code",
      "source": [
        "a = np.array([[-2.58289208,  0.43014843, -1.24082018, 1.59572603],\n",
        "              [ 0.99027828, 1.17150989,  0.94125714, -0.14692469],\n",
        "              [ 0.76989341,  0.81299683, -0.95068423, 0.11769564],\n",
        "              [ 0.20484034,  0.34784527,  1.96979195, 0.51992837]])"
      ],
      "metadata": {
        "id": "ixLwL2SGnJXm"
      },
      "execution_count": 445,
      "outputs": []
    },
    {
      "cell_type": "code",
      "source": [
        "df = pd.DataFrame(a)\n",
        "print(df)"
      ],
      "metadata": {
        "id": "AVxby9FBnJU2",
        "colab": {
          "base_uri": "https://localhost:8080/"
        },
        "outputId": "6f5ab1c2-6775-4cb3-9adc-dc74287d5b11"
      },
      "execution_count": 446,
      "outputs": [
        {
          "output_type": "stream",
          "name": "stdout",
          "text": [
            "          0         1         2         3\n",
            "0 -2.582892  0.430148 -1.240820  1.595726\n",
            "1  0.990278  1.171510  0.941257 -0.146925\n",
            "2  0.769893  0.812997 -0.950684  0.117696\n",
            "3  0.204840  0.347845  1.969792  0.519928\n"
          ]
        }
      ]
    },
    {
      "cell_type": "code",
      "source": [
        "df.to_csv('pd.csv')"
      ],
      "metadata": {
        "id": "lAZm_90HnJSX"
      },
      "execution_count": 447,
      "outputs": []
    },
    {
      "cell_type": "code",
      "source": [
        "data = pd.read_csv('pd.csv')"
      ],
      "metadata": {
        "id": "7vSgf7VYngWN"
      },
      "execution_count": 448,
      "outputs": []
    },
    {
      "cell_type": "code",
      "source": [
        "np.savetxt('np.csv', a, fmt='%.2f', delimiter=',', header='1,  2,  3,  4')"
      ],
      "metadata": {
        "id": "6_2aJWJongUN"
      },
      "execution_count": 449,
      "outputs": []
    },
    {
      "cell_type": "code",
      "source": [
        "cat np.csv"
      ],
      "metadata": {
        "id": "P32t6d6BngRz",
        "colab": {
          "base_uri": "https://localhost:8080/"
        },
        "outputId": "edb11096-8072-40a0-a1dc-b573e890c4b7"
      },
      "execution_count": 450,
      "outputs": [
        {
          "output_type": "stream",
          "name": "stdout",
          "text": [
            "# 1,  2,  3,  4\n",
            "-2.58,0.43,-1.24,1.60\n",
            "0.99,1.17,0.94,-0.15\n",
            "0.77,0.81,-0.95,0.12\n",
            "0.20,0.35,1.97,0.52\n"
          ]
        }
      ]
    },
    {
      "cell_type": "markdown",
      "source": [
        "#Plotting arrays with Matplotlib"
      ],
      "metadata": {
        "id": "3evphlPInqHE"
      }
    },
    {
      "cell_type": "code",
      "source": [
        "a = np.array([2, 1, 5, 7, 4, 6, 8, 14, 10, 9, 18, 20, 22])"
      ],
      "metadata": {
        "id": "yGy877GkngPz"
      },
      "execution_count": 451,
      "outputs": []
    },
    {
      "cell_type": "code",
      "source": [
        "import matplotlib.pyplot as plt"
      ],
      "metadata": {
        "id": "kmpABNC1ngM-"
      },
      "execution_count": 452,
      "outputs": []
    },
    {
      "cell_type": "code",
      "source": [
        "plt.plot(a)\n"
      ],
      "metadata": {
        "id": "Opni3d7MngJM",
        "colab": {
          "base_uri": "https://localhost:8080/",
          "height": 448
        },
        "outputId": "c227d4a4-bbe7-4b58-ac3d-4daf46171b3e"
      },
      "execution_count": 453,
      "outputs": [
        {
          "output_type": "execute_result",
          "data": {
            "text/plain": [
              "[<matplotlib.lines.Line2D at 0x7965a84d8760>]"
            ]
          },
          "metadata": {},
          "execution_count": 453
        },
        {
          "output_type": "display_data",
          "data": {
            "text/plain": [
              "<Figure size 640x480 with 1 Axes>"
            ],
            "image/png": "[encoded data removed]"
          },
          "metadata": {}
        }
      ]
    },
    {
      "cell_type": "code",
      "source": [
        "x = np.linspace(0, 5, 20)\n",
        "y = np.linspace(0, 10, 20)\n",
        "plt.plot(x, y, 'purple') # line\n",
        "plt.plot(x, y, 'o')      # dots"
      ],
      "metadata": {
        "id": "G4EQzTOxnkTK",
        "colab": {
          "base_uri": "https://localhost:8080/",
          "height": 448
        },
        "outputId": "97cfa3ed-700a-407e-f06b-44181468d8fe"
      },
      "execution_count": 454,
      "outputs": [
        {
          "output_type": "execute_result",
          "data": {
            "text/plain": [
              "[<matplotlib.lines.Line2D at 0x7965a83ca320>]"
            ]
          },
          "metadata": {},
          "execution_count": 454
        },
        {
          "output_type": "display_data",
          "data": {
            "text/plain": [
              "<Figure size 640x480 with 1 Axes>"
            ],
            "image/png": "[encoded data removed]"
          },
          "metadata": {}
        }
      ]
    },
    {
      "cell_type": "code",
      "source": [
        "fig = plt.figure()\n",
        "ax = fig.add_subplot(projection='3d')\n",
        "X = np.arange(-5, 5, 0.15)\n",
        "Y = np.arange(-5, 5, 0.15)\n",
        "X, Y = np.meshgrid(X, Y)\n",
        "R = np.sqrt(X**2 + Y**2)\n",
        "Z = np.sin(R)\n",
        "\n",
        "ax.plot_surface(X, Y, Z, rstride=1, cstride=1, cmap='viridis')"
      ],
      "metadata": {
        "id": "RuIwafP-nkQs",
        "colab": {
          "base_uri": "https://localhost:8080/",
          "height": 428
        },
        "outputId": "6e4cef15-b95d-4b25-d33f-7c9ff8decbfa"
      },
      "execution_count": 455,
      "outputs": [
        {
          "output_type": "execute_result",
          "data": {
            "text/plain": [
              "<mpl_toolkits.mplot3d.art3d.Poly3DCollection at 0x7965a823e380>"
            ]
          },
          "metadata": {},
          "execution_count": 455
        },
        {
          "output_type": "display_data",
          "data": {
            "text/plain": [
              "<Figure size 640x480 with 1 Axes>"
            ],
            "image/png": "[encoded data removed]"
          },
          "metadata": {}
        }
      ]
    }
  ]
}